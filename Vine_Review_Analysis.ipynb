{
  "nbformat": 4,
  "nbformat_minor": 0,
  "metadata": {
    "colab": {
      "name": "Vine_Review_Analysis.ipynb",
      "provenance": [],
      "collapsed_sections": []
    },
    "kernelspec": {
      "name": "python3",
      "display_name": "Python 3"
    },
    "language_info": {
      "name": "python"
    }
  },
  "cells": [
    {
      "cell_type": "code",
      "metadata": {
        "id": "XZvWBGqzzyNY",
        "colab": {
          "base_uri": "https://localhost:8080/"
        },
        "outputId": "b184d534-8d9d-4a21-8412-adc0e3937b48"
      },
      "source": [
        "import os\n",
        "# Find the latest version of spark 2.0  from http://www-us.apache.org/dist/spark/ and enter as the spark version\n",
        "# For example:\n",
        "# spark_version = 'spark-3.0.0'\n",
        "spark_version = 'spark-3.1.1'\n",
        "os.environ['SPARK_VERSION']=spark_version\n",
        "\n",
        "# Install Spark and Java\n",
        "!apt-get update\n",
        "!apt-get install openjdk-11-jdk-headless -qq > /dev/null\n",
        "!wget -q http://www-us.apache.org/dist/spark/$SPARK_VERSION/$SPARK_VERSION-bin-hadoop2.7.tgz\n",
        "!tar xf $SPARK_VERSION-bin-hadoop2.7.tgz\n",
        "!pip install -q findspark\n",
        "\n",
        "# Set Environment Variables\n",
        "import os\n",
        "os.environ[\"JAVA_HOME\"] = \"/usr/lib/jvm/java-11-openjdk-amd64\"\n",
        "os.environ[\"SPARK_HOME\"] = f\"/content/{spark_version}-bin-hadoop2.7\"\n",
        "\n",
        "# Start a SparkSession\n",
        "import findspark\n",
        "findspark.init()"
      ],
      "execution_count": 1,
      "outputs": [
        {
          "output_type": "stream",
          "text": [
            "\r0% [Working]\r            \rGet:1 https://cloud.r-project.org/bin/linux/ubuntu bionic-cran40/ InRelease [3,626 B]\n",
            "Ign:2 https://developer.download.nvidia.com/compute/cuda/repos/ubuntu1804/x86_64  InRelease\n",
            "Get:3 http://security.ubuntu.com/ubuntu bionic-security InRelease [88.7 kB]\n",
            "Ign:4 https://developer.download.nvidia.com/compute/machine-learning/repos/ubuntu1804/x86_64  InRelease\n",
            "Get:5 https://developer.download.nvidia.com/compute/cuda/repos/ubuntu1804/x86_64  Release [697 B]\n",
            "Hit:6 http://archive.ubuntu.com/ubuntu bionic InRelease\n",
            "Get:7 http://ppa.launchpad.net/c2d4u.team/c2d4u4.0+/ubuntu bionic InRelease [15.9 kB]\n",
            "Hit:8 https://developer.download.nvidia.com/compute/machine-learning/repos/ubuntu1804/x86_64  Release\n",
            "Get:9 https://developer.download.nvidia.com/compute/cuda/repos/ubuntu1804/x86_64  Release.gpg [836 B]\n",
            "Get:10 http://archive.ubuntu.com/ubuntu bionic-updates InRelease [88.7 kB]\n",
            "Hit:12 http://ppa.launchpad.net/cran/libgit2/ubuntu bionic InRelease\n",
            "Ign:13 https://developer.download.nvidia.com/compute/cuda/repos/ubuntu1804/x86_64  Packages\n",
            "Get:13 https://developer.download.nvidia.com/compute/cuda/repos/ubuntu1804/x86_64  Packages [739 kB]\n",
            "Get:14 http://archive.ubuntu.com/ubuntu bionic-backports InRelease [74.6 kB]\n",
            "Get:15 http://ppa.launchpad.net/deadsnakes/ppa/ubuntu bionic InRelease [15.9 kB]\n",
            "Get:16 http://security.ubuntu.com/ubuntu bionic-security/universe amd64 Packages [1,410 kB]\n",
            "Hit:17 http://ppa.launchpad.net/graphics-drivers/ppa/ubuntu bionic InRelease\n",
            "Get:18 http://archive.ubuntu.com/ubuntu bionic-updates/restricted amd64 Packages [425 kB]\n",
            "Get:19 http://ppa.launchpad.net/c2d4u.team/c2d4u4.0+/ubuntu bionic/main Sources [1,756 kB]\n",
            "Get:20 http://security.ubuntu.com/ubuntu bionic-security/restricted amd64 Packages [395 kB]\n",
            "Get:21 http://security.ubuntu.com/ubuntu bionic-security/multiverse amd64 Packages [24.5 kB]\n",
            "Get:22 http://security.ubuntu.com/ubuntu bionic-security/main amd64 Packages [2,116 kB]\n",
            "Get:23 http://archive.ubuntu.com/ubuntu bionic-updates/main amd64 Packages [2,546 kB]\n",
            "Get:24 http://archive.ubuntu.com/ubuntu bionic-updates/universe amd64 Packages [2,182 kB]\n",
            "Get:25 http://archive.ubuntu.com/ubuntu bionic-updates/multiverse amd64 Packages [31.4 kB]\n",
            "Get:26 http://ppa.launchpad.net/c2d4u.team/c2d4u4.0+/ubuntu bionic/main amd64 Packages [899 kB]\n",
            "Get:27 http://ppa.launchpad.net/deadsnakes/ppa/ubuntu bionic/main amd64 Packages [39.5 kB]\n",
            "Fetched 12.9 MB in 7s (1,815 kB/s)\n",
            "Reading package lists... Done\n"
          ],
          "name": "stdout"
        }
      ]
    },
    {
      "cell_type": "code",
      "metadata": {
        "id": "fKr4bry_z-0F"
      },
      "source": [
        "from pyspark.sql import SparkSession\n",
        "spark = SparkSession.builder.appName(\"BigData-Challenge\").config(\"spark.driver.extraClassPath\",\"/content/postgresql-42.2.16.jar\").getOrCreate()"
      ],
      "execution_count": 2,
      "outputs": []
    },
    {
      "cell_type": "code",
      "metadata": {
        "id": "e2GEdJWc0QmU",
        "colab": {
          "base_uri": "https://localhost:8080/"
        },
        "outputId": "ad9a7494-c369-401c-8516-9fd90038b1f3"
      },
      "source": [
        "from pyspark import SparkFiles\n",
        "url = \"https://s3.amazonaws.com/amazon-reviews-pds/tsv/amazon_reviews_us_Sports_v1_00.tsv.gz\"\n",
        "spark.sparkContext.addFile(url)\n",
        "df = spark.read.option(\"encoding\", \"UTF-8\").csv(SparkFiles.get(\"\"), sep=\"\\t\", header=True, inferSchema=True)\n",
        "df.show()"
      ],
      "execution_count": 3,
      "outputs": [
        {
          "output_type": "stream",
          "text": [
            "+-----------+-----------+--------------+----------+--------------+--------------------+----------------+-----------+-------------+-----------+----+-----------------+--------------------+--------------------+-----------+\n",
            "|marketplace|customer_id|     review_id|product_id|product_parent|       product_title|product_category|star_rating|helpful_votes|total_votes|vine|verified_purchase|     review_headline|         review_body|review_date|\n",
            "+-----------+-----------+--------------+----------+--------------+--------------------+----------------+-----------+-------------+-----------+----+-----------------+--------------------+--------------------+-----------+\n",
            "|         US|   48945260|R1WBPB8MDCCN8F|B012P7UPSM|     409940130|Chicago Blackhawk...|          Sports|          5|            0|          0|   N|                N|   LOVE IT. 6 stars!|Bought this last ...| 2015-08-31|\n",
            "|         US|    5782091|R32M0YEWV77XG8|B001GQ3VHG|     657746679|Copag Poker Size ...|          Sports|          5|            1|          1|   N|                Y|       Shipped fast.|These are the bes...| 2015-08-31|\n",
            "|         US|   45813853| RR8V7WR27NXJ5|B008VS8M58|     962442336|Baoer 223 5.56x45...|          Sports|          1|            0|          0|   N|                Y|Good idea if it w...|It looks good, th...| 2015-08-31|\n",
            "|         US|    1593730|R1MHO5V9Z932AY|B005F06F4U|      74305227|All Terrain Tackl...|          Sports|          5|            0|          0|   N|                Y|          Five Stars|           Great jig| 2015-08-31|\n",
            "|         US|   29605511|R16PD71086BD2V|B010T4IE2C|     787185588|Swim Cap - 3 Pack...|          Sports|          5|            0|          1|   N|                N|Great quality sil...|I love swimming i...| 2015-08-31|\n",
            "|         US|   11112959|R1Z8IFGWTRWXT6|B004RKJGLS|      94127483|adidas Men's Spor...|          Sports|          3|            0|          0|   N|                Y|Love everything a...|Love everything a...| 2015-08-31|\n",
            "|         US|     108031|R3AUMSHAW73HWN|B005V3DCBU|     526977496|Nike Men's Perfor...|          Sports|          4|            2|          3|   N|                N|          Four Stars|not the best sock...| 2015-08-31|\n",
            "|         US|   13981540|R2KWDWFOHGX6FL|B00MHT9WN8|      26521265|Green Bay Packers...|          Sports|          5|            0|          0|   N|                Y|          Five Stars|             Love it| 2015-08-31|\n",
            "|         US|   37993909|R3H9543FWBWFBU|B001CSIRQ8|     652431165|Isokinetics Inc. ...|          Sports|          5|            1|          1|   N|                Y|can't wait to use it|Unfortunately I h...| 2015-08-31|\n",
            "|         US|   26040213| RUANXOQ9W3OU5|B001KZ3NOO|     635861713|Aottop Quality El...|          Sports|          5|            0|          0|   N|                Y|great product, ac...|fast shipping , g...| 2015-08-31|\n",
            "|         US|   34657602|R31673RTGEZSW7|B00005RCQS|      72099763|Everlast 2'x6' Fo...|          Sports|          5|            2|          2|   N|                Y|this mat is a pre...|If you have a ter...| 2015-08-31|\n",
            "|         US|   14346192|R22OQLFSH42RCM|B00FA7RWVI|     757354022|OGIO Men's Shredd...|          Sports|          5|            1|          1|   N|                Y|  Versatile Golf Bag|Love this golf ba...| 2015-08-31|\n",
            "|         US|   38782687|R12LEL4F3TSZUJ|B000MMH2HU|     272402599|Blue Sea Systems ...|          Sports|          5|            2|          2|   N|                Y|Great AC Main Bre...|Perfect mounting ...| 2015-08-31|\n",
            "|         US|   27138575|R2L9XWD03072NI|B00WJOATDS|     375070208|Zengi AR15 45 Deg...|          Sports|          5|            1|          2|   N|                Y|   Nice, some quirks|For the cost you ...| 2015-08-31|\n",
            "|         US|   11838771|R2K0U91HIACANO|B00BOM2JNY|     639666785|Black Mountain Pr...|          Sports|          5|            0|          0|   N|                N|55 cm - Good qual...|The ball is very ...| 2015-08-31|\n",
            "|         US|     535800|R29SP6MBT7MXG7|B00OD5GAFM|      38715442|Trijicon VCOG 1-6...|          Sports|          4|            3|          3|   N|                Y|    Very nice scope.|Very nice scope.....| 2015-08-31|\n",
            "|         US|   23156579|R31XREAAMATEPY|B00CAHDC1K|      57088652|Naruto Headband f...|          Sports|          5|            0|          0|   N|                Y|was for my son an...|           This item| 2015-08-31|\n",
            "|         US|   48107879|R2116AVB87SO38|B004NLHXLG|     114125984|Under Armour Men'...|          Sports|          5|            0|          0|   N|                Y|          Five Stars|greatest socks i ...| 2015-08-31|\n",
            "|         US|   27260960|R3RDVBB6O0X3HW|B00L7OANWI|     883962979|Yes4All Deep Tiss...|          Sports|          5|            0|          0|   N|                Y|          Five Stars|Perfect for home ...| 2015-08-31|\n",
            "|         US|   39537314|R3LW5T149LKKQM|B0085PPSIQ|     691479969|Lansky PS-MED01 B...|          Sports|          4|            0|          0|   N|                Y|A bit heavy for p...|Very good product...| 2015-08-31|\n",
            "+-----------+-----------+--------------+----------+--------------+--------------------+----------------+-----------+-------------+-----------+----+-----------------+--------------------+--------------------+-----------+\n",
            "only showing top 20 rows\n",
            "\n"
          ],
          "name": "stdout"
        }
      ]
    },
    {
      "cell_type": "code",
      "metadata": {
        "id": "4wxQ2eNF0WJl",
        "colab": {
          "base_uri": "https://localhost:8080/"
        },
        "outputId": "38625200-0789-4b21-baac-b3669931d05f"
      },
      "source": [
        "# Create the vine_table. DataFrame\n",
        "# vine_df = df.select([])\n",
        "vine_df = df.select([\"review_id\",\"star_rating\",\"helpful_votes\",\"total_votes\",\"vine\",\"verified_purchase\"])\n",
        "vine_df.show()"
      ],
      "execution_count": 4,
      "outputs": [
        {
          "output_type": "stream",
          "text": [
            "+--------------+-----------+-------------+-----------+----+-----------------+\n",
            "|     review_id|star_rating|helpful_votes|total_votes|vine|verified_purchase|\n",
            "+--------------+-----------+-------------+-----------+----+-----------------+\n",
            "|R1WBPB8MDCCN8F|          5|            0|          0|   N|                N|\n",
            "|R32M0YEWV77XG8|          5|            1|          1|   N|                Y|\n",
            "| RR8V7WR27NXJ5|          1|            0|          0|   N|                Y|\n",
            "|R1MHO5V9Z932AY|          5|            0|          0|   N|                Y|\n",
            "|R16PD71086BD2V|          5|            0|          1|   N|                N|\n",
            "|R1Z8IFGWTRWXT6|          3|            0|          0|   N|                Y|\n",
            "|R3AUMSHAW73HWN|          4|            2|          3|   N|                N|\n",
            "|R2KWDWFOHGX6FL|          5|            0|          0|   N|                Y|\n",
            "|R3H9543FWBWFBU|          5|            1|          1|   N|                Y|\n",
            "| RUANXOQ9W3OU5|          5|            0|          0|   N|                Y|\n",
            "|R31673RTGEZSW7|          5|            2|          2|   N|                Y|\n",
            "|R22OQLFSH42RCM|          5|            1|          1|   N|                Y|\n",
            "|R12LEL4F3TSZUJ|          5|            2|          2|   N|                Y|\n",
            "|R2L9XWD03072NI|          5|            1|          2|   N|                Y|\n",
            "|R2K0U91HIACANO|          5|            0|          0|   N|                N|\n",
            "|R29SP6MBT7MXG7|          4|            3|          3|   N|                Y|\n",
            "|R31XREAAMATEPY|          5|            0|          0|   N|                Y|\n",
            "|R2116AVB87SO38|          5|            0|          0|   N|                Y|\n",
            "|R3RDVBB6O0X3HW|          5|            0|          0|   N|                Y|\n",
            "|R3LW5T149LKKQM|          4|            0|          0|   N|                Y|\n",
            "+--------------+-----------+-------------+-----------+----+-----------------+\n",
            "only showing top 20 rows\n",
            "\n"
          ],
          "name": "stdout"
        }
      ]
    },
    {
      "cell_type": "code",
      "metadata": {
        "id": "wRnv1a3k0ljR",
        "colab": {
          "base_uri": "https://localhost:8080/"
        },
        "outputId": "0be6059c-afdd-44d4-ac0b-86cd876eb593"
      },
      "source": [
        "# The data is filtered to create a DataFrame or table where there are 20 or more total votes\n",
        "votes = df.filter(\"total_votes >= 20\")\n",
        "votes.show()"
      ],
      "execution_count": 5,
      "outputs": [
        {
          "output_type": "stream",
          "text": [
            "+-----------+-----------+--------------+----------+--------------+--------------------+----------------+-----------+-------------+-----------+----+-----------------+--------------------+--------------------+-----------+\n",
            "|marketplace|customer_id|     review_id|product_id|product_parent|       product_title|product_category|star_rating|helpful_votes|total_votes|vine|verified_purchase|     review_headline|         review_body|review_date|\n",
            "+-----------+-----------+--------------+----------+--------------+--------------------+----------------+-----------+-------------+-----------+----+-----------------+--------------------+--------------------+-----------+\n",
            "|         US|   37480006|R1B4753QMTD8ON|B00U6AE4BK|     632231911|Maxpedition Chubb...|          Sports|          5|           32|         32|   N|                N|Maxpedition Organ...|As a preamble, ha...| 2015-08-31|\n",
            "|         US|   49868087|R28BVHOEL6GCHZ|B011CCGRX8|     403987913|5 Resistance Loop...|          Sports|          5|           21|         21|   N|                Y|Excellent for Phy...|I purchased these...| 2015-08-31|\n",
            "|         US|    8458598|R27IB4BRKO71I0|B0062Y9BLM|     875168903|Sentry Solutions ...|          Sports|          2|           16|         20|   N|                Y|        Just dont...|So i bought this ...| 2015-08-31|\n",
            "|         US|   23595483| RJ86OW12Y4NRL|B00HMDLAPC|     677548322|NIKE Mercurial Li...|          Sports|          5|          124|        128|   N|                Y|My Shins Exclaim:...|I highly recommen...| 2015-08-31|\n",
            "|         US|   42803974|R3KRABOWCH6ZE4|B003DQTJMI|     330329071|Mountain Man Beav...|          Sports|          1|           48|         65|   N|                Y|                WTF!|Dont get me wrong...| 2015-08-31|\n",
            "|         US|    4247498|R1OAKARA30DIWX|B00467H5YW|     440976014|Sunny Health & Fi...|          Sports|          4|           83|         89|   N|                Y|Good quality bike...|I have been spinn...| 2015-08-31|\n",
            "|         US|   25890930|R36LSV4WQ4VB1K|B010OMQSR2|     193862771|Rhino Tactical Gr...|          Sports|          5|           17|         22|   N|                N|Quality scope by ...|Though I do not o...| 2015-08-31|\n",
            "|         US|   15598507|R18BTOE5UGN7UA|B00VNYCZ78|     387735619|4007527 Desantis ...|          Sports|          5|           26|         28|   N|                Y|Weapon fits perfe...|Weapon fits perfe...| 2015-08-31|\n",
            "|         US|   37283673|R1DXLGDSK2WMLD|B00460IFPW|     200966622|Benjamin High Pre...|          Sports|          4|           22|         22|   N|                N|Don't Blame the P...|I have read many ...| 2015-08-31|\n",
            "|         US|     106776| RZG2OHQ12YYZI|B00DGE4BAW|      70810199|Nike Womens Pro C...|          Sports|          5|           30|         31|   N|                Y|      Very satisfied|I was sort worrie...| 2015-08-31|\n",
            "|         US|   48363662|R1ZPBQCT4DYE4Z|B00AU6EEVU|      13742267|Gamo 611009754 .1...|          Sports|          1|           45|         51|   N|                Y|Horrible Customer...|Horrible customer...| 2015-08-31|\n",
            "|         US|   15757589|R16KLPJUNC9GS7|B002ZUR0EW|     930729095|ASICS Ace Low Pro...|          Sports|          5|           20|         21|   N|                Y|My 13-year-old da...|My 13-year-old da...| 2015-08-31|\n",
            "|         US|   38169469|R3Q0414UJO4BDO|B000EZYT3K|     620569131|Century Original ...|          Sports|          1|           23|         28|   N|                Y|I have to reposit...|I've had this wav...| 2015-08-31|\n",
            "|         US|      94649| RDHDT1Z4R8IOF|B00HPQ22XK|     845220278|Vipertek VTS-195 ...|          Sports|          1|           18|         20|   N|                Y|Short-circuited o...|Short-circuited o...| 2015-08-31|\n",
            "|         US|   33069537|R10BO7KWZNBGL1|B00IK2U3C0|     339142563|Zumba Fitness Max...|          Sports|          4|           23|         24|   N|                Y|Very Fun -- Be Su...|You can see a qui...| 2015-08-31|\n",
            "|         US|   46178267|R1H6DQ1UXL6K8U|B00S0YA5GM|     341888516|Balaclava - Windp...|          Sports|          5|           86|         97|   N|                N|Longer Skull Cap,...|[[VIDEOID:65429b3...| 2015-08-31|\n",
            "|         US|   51238346|R32OMS1LSDRCOB|B0118XMTV0|     454318751|Slendertone Abs A...|          Sports|          4|           27|         31|   Y|                N|Fun and Potential...|I have heard some...| 2015-08-31|\n",
            "|         US|   27447817|R1ABJ5P5XAZ9AW|B00RGAPEMQ|     421395304|Diamond Archery I...|          Sports|          5|          174|        187|   N|                N|Easy to maintain ...|This is not a spe...| 2015-08-31|\n",
            "|         US|     107674|R2RRFZ2YFSJ2OF|B012E92P16|     955885072|Storm Warrior Dou...|          Sports|          5|           27|         27|   N|                Y|awesome money wel...|It works great wi...| 2015-08-31|\n",
            "|         US|   50641517|R19G3LWRFBHDX3|B010MEXZZU|      92869912|Brunswick Tzone D...|          Sports|          1|            4|         42|   N|                Y|            One Star|I can't find the ...| 2015-08-31|\n",
            "+-----------+-----------+--------------+----------+--------------+--------------------+----------------+-----------+-------------+-----------+----+-----------------+--------------------+--------------------+-----------+\n",
            "only showing top 20 rows\n",
            "\n"
          ],
          "name": "stdout"
        }
      ]
    },
    {
      "cell_type": "code",
      "metadata": {
        "id": "EzeC6EtA1VS6",
        "colab": {
          "base_uri": "https://localhost:8080/"
        },
        "outputId": "89abaf59-6292-4820-e47a-b3a4b174142e"
      },
      "source": [
        "# The data is filtered to create a DataFrame or table where the percentage of helpful_votes is equal to or greater than 50%\n",
        "helpful_table = votes.filter(votes[\"helpful_votes\"]/votes[\"total_votes\"]>=0.5)\n",
        "helpful_table.show()"
      ],
      "execution_count": 6,
      "outputs": [
        {
          "output_type": "stream",
          "text": [
            "+-----------+-----------+--------------+----------+--------------+--------------------+----------------+-----------+-------------+-----------+----+-----------------+--------------------+--------------------+-----------+\n",
            "|marketplace|customer_id|     review_id|product_id|product_parent|       product_title|product_category|star_rating|helpful_votes|total_votes|vine|verified_purchase|     review_headline|         review_body|review_date|\n",
            "+-----------+-----------+--------------+----------+--------------+--------------------+----------------+-----------+-------------+-----------+----+-----------------+--------------------+--------------------+-----------+\n",
            "|         US|   37480006|R1B4753QMTD8ON|B00U6AE4BK|     632231911|Maxpedition Chubb...|          Sports|          5|           32|         32|   N|                N|Maxpedition Organ...|As a preamble, ha...| 2015-08-31|\n",
            "|         US|   49868087|R28BVHOEL6GCHZ|B011CCGRX8|     403987913|5 Resistance Loop...|          Sports|          5|           21|         21|   N|                Y|Excellent for Phy...|I purchased these...| 2015-08-31|\n",
            "|         US|    8458598|R27IB4BRKO71I0|B0062Y9BLM|     875168903|Sentry Solutions ...|          Sports|          2|           16|         20|   N|                Y|        Just dont...|So i bought this ...| 2015-08-31|\n",
            "|         US|   23595483| RJ86OW12Y4NRL|B00HMDLAPC|     677548322|NIKE Mercurial Li...|          Sports|          5|          124|        128|   N|                Y|My Shins Exclaim:...|I highly recommen...| 2015-08-31|\n",
            "|         US|   42803974|R3KRABOWCH6ZE4|B003DQTJMI|     330329071|Mountain Man Beav...|          Sports|          1|           48|         65|   N|                Y|                WTF!|Dont get me wrong...| 2015-08-31|\n",
            "|         US|    4247498|R1OAKARA30DIWX|B00467H5YW|     440976014|Sunny Health & Fi...|          Sports|          4|           83|         89|   N|                Y|Good quality bike...|I have been spinn...| 2015-08-31|\n",
            "|         US|   25890930|R36LSV4WQ4VB1K|B010OMQSR2|     193862771|Rhino Tactical Gr...|          Sports|          5|           17|         22|   N|                N|Quality scope by ...|Though I do not o...| 2015-08-31|\n",
            "|         US|   15598507|R18BTOE5UGN7UA|B00VNYCZ78|     387735619|4007527 Desantis ...|          Sports|          5|           26|         28|   N|                Y|Weapon fits perfe...|Weapon fits perfe...| 2015-08-31|\n",
            "|         US|   37283673|R1DXLGDSK2WMLD|B00460IFPW|     200966622|Benjamin High Pre...|          Sports|          4|           22|         22|   N|                N|Don't Blame the P...|I have read many ...| 2015-08-31|\n",
            "|         US|     106776| RZG2OHQ12YYZI|B00DGE4BAW|      70810199|Nike Womens Pro C...|          Sports|          5|           30|         31|   N|                Y|      Very satisfied|I was sort worrie...| 2015-08-31|\n",
            "|         US|   48363662|R1ZPBQCT4DYE4Z|B00AU6EEVU|      13742267|Gamo 611009754 .1...|          Sports|          1|           45|         51|   N|                Y|Horrible Customer...|Horrible customer...| 2015-08-31|\n",
            "|         US|   15757589|R16KLPJUNC9GS7|B002ZUR0EW|     930729095|ASICS Ace Low Pro...|          Sports|          5|           20|         21|   N|                Y|My 13-year-old da...|My 13-year-old da...| 2015-08-31|\n",
            "|         US|   38169469|R3Q0414UJO4BDO|B000EZYT3K|     620569131|Century Original ...|          Sports|          1|           23|         28|   N|                Y|I have to reposit...|I've had this wav...| 2015-08-31|\n",
            "|         US|      94649| RDHDT1Z4R8IOF|B00HPQ22XK|     845220278|Vipertek VTS-195 ...|          Sports|          1|           18|         20|   N|                Y|Short-circuited o...|Short-circuited o...| 2015-08-31|\n",
            "|         US|   33069537|R10BO7KWZNBGL1|B00IK2U3C0|     339142563|Zumba Fitness Max...|          Sports|          4|           23|         24|   N|                Y|Very Fun -- Be Su...|You can see a qui...| 2015-08-31|\n",
            "|         US|   46178267|R1H6DQ1UXL6K8U|B00S0YA5GM|     341888516|Balaclava - Windp...|          Sports|          5|           86|         97|   N|                N|Longer Skull Cap,...|[[VIDEOID:65429b3...| 2015-08-31|\n",
            "|         US|   51238346|R32OMS1LSDRCOB|B0118XMTV0|     454318751|Slendertone Abs A...|          Sports|          4|           27|         31|   Y|                N|Fun and Potential...|I have heard some...| 2015-08-31|\n",
            "|         US|   27447817|R1ABJ5P5XAZ9AW|B00RGAPEMQ|     421395304|Diamond Archery I...|          Sports|          5|          174|        187|   N|                N|Easy to maintain ...|This is not a spe...| 2015-08-31|\n",
            "|         US|     107674|R2RRFZ2YFSJ2OF|B012E92P16|     955885072|Storm Warrior Dou...|          Sports|          5|           27|         27|   N|                Y|awesome money wel...|It works great wi...| 2015-08-31|\n",
            "|         US|   19397215| RJ0T139KDORXP|B00HAMJA20|     723592737|Paracord Planet 1...|          Sports|          5|           23|         24|   N|                Y|Great product for...|This was exactly ...| 2015-08-31|\n",
            "+-----------+-----------+--------------+----------+--------------+--------------------+----------------+-----------+-------------+-----------+----+-----------------+--------------------+--------------------+-----------+\n",
            "only showing top 20 rows\n",
            "\n"
          ],
          "name": "stdout"
        }
      ]
    },
    {
      "cell_type": "code",
      "metadata": {
        "id": "qN0TBNQ_1YYJ",
        "colab": {
          "base_uri": "https://localhost:8080/"
        },
        "outputId": "95f91bfe-12bc-46a9-a391-dde30f307584"
      },
      "source": [
        "# The data is filtered to create a DataFrame or table where there is a Vine review\n",
        "helpful_table.filter(helpful_table[\"vine\"] == \"Y\").show()"
      ],
      "execution_count": 7,
      "outputs": [
        {
          "output_type": "stream",
          "text": [
            "+-----------+-----------+--------------+----------+--------------+--------------------+----------------+-----------+-------------+-----------+----+-----------------+--------------------+--------------------+-----------+\n",
            "|marketplace|customer_id|     review_id|product_id|product_parent|       product_title|product_category|star_rating|helpful_votes|total_votes|vine|verified_purchase|     review_headline|         review_body|review_date|\n",
            "+-----------+-----------+--------------+----------+--------------+--------------------+----------------+-----------+-------------+-----------+----+-----------------+--------------------+--------------------+-----------+\n",
            "|         US|   51238346|R32OMS1LSDRCOB|B0118XMTV0|     454318751|Slendertone Abs A...|          Sports|          4|           27|         31|   Y|                N|Fun and Potential...|I have heard some...| 2015-08-31|\n",
            "|         US|   31282801|R2IPKK4I0XRCFR|B00R3MZU80|     470964994|AmazonBasics Resi...|          Sports|          4|           16|         21|   Y|                N|Strong and versatile|I've never owned ...| 2015-08-28|\n",
            "|         US|   50738297| RXYYJ8SGI9IX6|B00T9N2M0K|      75297990|Bushnell Legend L...|          Sports|          5|           36|         41|   Y|                N|Best in League, A...|The Bushnell LEGE...| 2015-08-23|\n",
            "|         US|   52389452|R1SAUBFC7T6JHC|B0102UUH0U|     247322872|Gaiam Backless Ba...|          Sports|          5|           73|         75|   Y|                N| Pretty darned great|I own a number of...| 2015-08-22|\n",
            "|         US|   16449486|R329HVJKKHWSG3|B00UOYN7J8|     582990100|GolfBuddy WT5 Gol...|          Sports|          5|           59|         59|   Y|                N|            Golf GPS|I really like thi...| 2015-08-05|\n",
            "|         US|   51401810| RZL21K50M52KW|B00UOYN7J8|     582990100|GolfBuddy WT5 Gol...|          Sports|          5|           22|         22|   Y|                N|Only leaves your ...|At first I though...| 2015-08-02|\n",
            "|         US|   42766892|R24RC5J2D92SBE|B00QLVN8ME|     218231145|TaylorMade Men's ...|          Sports|          5|           19|         20|   Y|                N|              Wow...|Allow me to be fr...| 2015-08-01|\n",
            "|         US|   26955164|R1803HITBY7Y08|B00SX7JPMG|     335026890|Simmons 801600 Vo...|          Sports|          4|           92|        104|   Y|                N|Entry level price...|For those on a bu...| 2015-08-01|\n",
            "|         US|   52860329|R1888B8Z6QWYZ4|B00SX7JPMG|     335026890|Simmons 801600 Vo...|          Sports|          4|           18|         25|   Y|                N|Cheap. Accurate. ...|Depress single bu...| 2015-07-28|\n",
            "|         US|   31129802|R1S538NK2I5PRL|B00UOYN7J8|     582990100|GolfBuddy WT5 Gol...|          Sports|          5|           21|         22|   Y|                N|Great Golf Accessory|I like using the ...| 2015-07-24|\n",
            "|         US|   45351550| RZDTBIS1289HJ|B00TP85YUE|     312217522|Primos 12MP Proof...|          Sports|          5|           26|         28|   Y|                N|Back to basics wi...|So depending on w...| 2015-07-24|\n",
            "|         US|   26955164|R1MWLO2PFODMQ3|B00QLVEF9E|     432026198|TaylorMade Men's ...|          Sports|          5|           31|         32|   Y|                N|Your time has com...|What comes with t...| 2015-07-12|\n",
            "|         US|   35733349|R3O6EMC0ISQY92|B00WQIV96S|     326034256|Gaiam Kids Stay-N...|          Sports|          4|           25|         27|   Y|                N|Fun ball but for ...|I got this for ou...| 2015-07-10|\n",
            "|         US|   36470546|R1OGJY9TSNXXX3|B00XRDONXC|      39871630|SKLZ Pro Mini XL ...|          Sports|          5|           19|         22|   Y|                N|Several Advantage...|Wow, this is sooo...| 2015-06-24|\n",
            "|         US|   48428870| R3AOPWQNKJ6VE|B00XRDONXC|      39871630|SKLZ Pro Mini XL ...|          Sports|          5|           25|         29|   Y|                N|Great office, dor...|This Sklz mini ho...| 2015-06-20|\n",
            "|         US|   30095805|R1XJFRM9ANTVSZ|B00VUMGYLQ|     628585657|SKLZ Quickster So...|          Sports|          4|           44|         46|   Y|                N|For the money, a ...|This is a decent ...| 2015-06-17|\n",
            "|         US|   52754239|R1VDF41NJMDGBT|B00T5VQBU8|     185741040|CaddyDaddy Golf P...|          Sports|          2|           23|         29|   Y|                N|So large it's pra...|I'm not going to ...| 2015-06-14|\n",
            "|         US|   32028733|R2C0QDBA4NEEKD|B00VS36SN6|     689268241|Jillian Michaels ...|          Sports|          3|          173|        200|   Y|                N|Solid Workouts; P...|First, let me sta...| 2015-05-28|\n",
            "|         US|   51635935|R3TUMV5DZL433H|B00VS36SN6|     689268241|Jillian Michaels ...|          Sports|          4|           29|         38|   Y|                N|Not for the (fatt...|This is intimidat...| 2015-05-28|\n",
            "|         US|   51624877| RVU1EA54INF9T|B00RW8HVYG|     121951908|adidas Performanc...|          Sports|          5|           19|         21|   Y|                N|5 stars for a sol...|ADIDAS, &#34;All ...| 2015-05-25|\n",
            "+-----------+-----------+--------------+----------+--------------+--------------------+----------------+-----------+-------------+-----------+----+-----------------+--------------------+--------------------+-----------+\n",
            "only showing top 20 rows\n",
            "\n"
          ],
          "name": "stdout"
        }
      ]
    },
    {
      "cell_type": "code",
      "metadata": {
        "id": "-luGcXW21bF0",
        "colab": {
          "base_uri": "https://localhost:8080/"
        },
        "outputId": "4f88043a-a596-4d54-ec69-404434737b1a"
      },
      "source": [
        "# The data is filtered to create a DataFrame or table where there isn’t a Vine review\n",
        "helpful_table.filter(helpful_table[\"vine\"] == \"N\").show()"
      ],
      "execution_count": 8,
      "outputs": [
        {
          "output_type": "stream",
          "text": [
            "+-----------+-----------+--------------+----------+--------------+--------------------+----------------+-----------+-------------+-----------+----+-----------------+--------------------+--------------------+-----------+\n",
            "|marketplace|customer_id|     review_id|product_id|product_parent|       product_title|product_category|star_rating|helpful_votes|total_votes|vine|verified_purchase|     review_headline|         review_body|review_date|\n",
            "+-----------+-----------+--------------+----------+--------------+--------------------+----------------+-----------+-------------+-----------+----+-----------------+--------------------+--------------------+-----------+\n",
            "|         US|   37480006|R1B4753QMTD8ON|B00U6AE4BK|     632231911|Maxpedition Chubb...|          Sports|          5|           32|         32|   N|                N|Maxpedition Organ...|As a preamble, ha...| 2015-08-31|\n",
            "|         US|   49868087|R28BVHOEL6GCHZ|B011CCGRX8|     403987913|5 Resistance Loop...|          Sports|          5|           21|         21|   N|                Y|Excellent for Phy...|I purchased these...| 2015-08-31|\n",
            "|         US|    8458598|R27IB4BRKO71I0|B0062Y9BLM|     875168903|Sentry Solutions ...|          Sports|          2|           16|         20|   N|                Y|        Just dont...|So i bought this ...| 2015-08-31|\n",
            "|         US|   23595483| RJ86OW12Y4NRL|B00HMDLAPC|     677548322|NIKE Mercurial Li...|          Sports|          5|          124|        128|   N|                Y|My Shins Exclaim:...|I highly recommen...| 2015-08-31|\n",
            "|         US|   42803974|R3KRABOWCH6ZE4|B003DQTJMI|     330329071|Mountain Man Beav...|          Sports|          1|           48|         65|   N|                Y|                WTF!|Dont get me wrong...| 2015-08-31|\n",
            "|         US|    4247498|R1OAKARA30DIWX|B00467H5YW|     440976014|Sunny Health & Fi...|          Sports|          4|           83|         89|   N|                Y|Good quality bike...|I have been spinn...| 2015-08-31|\n",
            "|         US|   25890930|R36LSV4WQ4VB1K|B010OMQSR2|     193862771|Rhino Tactical Gr...|          Sports|          5|           17|         22|   N|                N|Quality scope by ...|Though I do not o...| 2015-08-31|\n",
            "|         US|   15598507|R18BTOE5UGN7UA|B00VNYCZ78|     387735619|4007527 Desantis ...|          Sports|          5|           26|         28|   N|                Y|Weapon fits perfe...|Weapon fits perfe...| 2015-08-31|\n",
            "|         US|   37283673|R1DXLGDSK2WMLD|B00460IFPW|     200966622|Benjamin High Pre...|          Sports|          4|           22|         22|   N|                N|Don't Blame the P...|I have read many ...| 2015-08-31|\n",
            "|         US|     106776| RZG2OHQ12YYZI|B00DGE4BAW|      70810199|Nike Womens Pro C...|          Sports|          5|           30|         31|   N|                Y|      Very satisfied|I was sort worrie...| 2015-08-31|\n",
            "|         US|   48363662|R1ZPBQCT4DYE4Z|B00AU6EEVU|      13742267|Gamo 611009754 .1...|          Sports|          1|           45|         51|   N|                Y|Horrible Customer...|Horrible customer...| 2015-08-31|\n",
            "|         US|   15757589|R16KLPJUNC9GS7|B002ZUR0EW|     930729095|ASICS Ace Low Pro...|          Sports|          5|           20|         21|   N|                Y|My 13-year-old da...|My 13-year-old da...| 2015-08-31|\n",
            "|         US|   38169469|R3Q0414UJO4BDO|B000EZYT3K|     620569131|Century Original ...|          Sports|          1|           23|         28|   N|                Y|I have to reposit...|I've had this wav...| 2015-08-31|\n",
            "|         US|      94649| RDHDT1Z4R8IOF|B00HPQ22XK|     845220278|Vipertek VTS-195 ...|          Sports|          1|           18|         20|   N|                Y|Short-circuited o...|Short-circuited o...| 2015-08-31|\n",
            "|         US|   33069537|R10BO7KWZNBGL1|B00IK2U3C0|     339142563|Zumba Fitness Max...|          Sports|          4|           23|         24|   N|                Y|Very Fun -- Be Su...|You can see a qui...| 2015-08-31|\n",
            "|         US|   46178267|R1H6DQ1UXL6K8U|B00S0YA5GM|     341888516|Balaclava - Windp...|          Sports|          5|           86|         97|   N|                N|Longer Skull Cap,...|[[VIDEOID:65429b3...| 2015-08-31|\n",
            "|         US|   27447817|R1ABJ5P5XAZ9AW|B00RGAPEMQ|     421395304|Diamond Archery I...|          Sports|          5|          174|        187|   N|                N|Easy to maintain ...|This is not a spe...| 2015-08-31|\n",
            "|         US|     107674|R2RRFZ2YFSJ2OF|B012E92P16|     955885072|Storm Warrior Dou...|          Sports|          5|           27|         27|   N|                Y|awesome money wel...|It works great wi...| 2015-08-31|\n",
            "|         US|   19397215| RJ0T139KDORXP|B00HAMJA20|     723592737|Paracord Planet 1...|          Sports|          5|           23|         24|   N|                Y|Great product for...|This was exactly ...| 2015-08-31|\n",
            "|         US|   12646947|R30MVK7HP2DW91|B00Z8KBEBQ|     205836280|Earth Pak -Waterp...|          Sports|          5|           84|        124|   N|                Y|best quality dry ...|VERY heavy duty m...| 2015-08-31|\n",
            "+-----------+-----------+--------------+----------+--------------+--------------------+----------------+-----------+-------------+-----------+----+-----------------+--------------------+--------------------+-----------+\n",
            "only showing top 20 rows\n",
            "\n"
          ],
          "name": "stdout"
        }
      ]
    },
    {
      "cell_type": "code",
      "metadata": {
        "id": "UhPRYpFx1fLx",
        "colab": {
          "base_uri": "https://localhost:8080/"
        },
        "outputId": "9d3d18ce-bb26-4fc2-d513-3dd0a171b84c"
      },
      "source": [
        "# The total number of reviews\n",
        "vine_df.count()"
      ],
      "execution_count": 9,
      "outputs": [
        {
          "output_type": "execute_result",
          "data": {
            "text/plain": [
              "4850360"
            ]
          },
          "metadata": {
            "tags": []
          },
          "execution_count": 9
        }
      ]
    },
    {
      "cell_type": "code",
      "metadata": {
        "colab": {
          "base_uri": "https://localhost:8080/"
        },
        "id": "Hl6DlLpbAJrZ",
        "outputId": "582347b9-ddcc-4345-b481-121828935b27"
      },
      "source": [
        "# The total number of reviews from helpful votes \n",
        "helpful_table.count()"
      ],
      "execution_count": 13,
      "outputs": [
        {
          "output_type": "execute_result",
          "data": {
            "text/plain": [
              "61948"
            ]
          },
          "metadata": {
            "tags": []
          },
          "execution_count": 13
        }
      ]
    },
    {
      "cell_type": "code",
      "metadata": {
        "id": "O2bqOIRj1jw2",
        "colab": {
          "base_uri": "https://localhost:8080/"
        },
        "outputId": "cb43c5aa-dae9-4d81-ca0f-05c69944c734"
      },
      "source": [
        "# the number of 5-star reviews\n",
        "five_star_reviews = vine_df.filter(vine_df[\"star_rating\"]== 5)\n",
        "five_star_reviews.count()"
      ],
      "execution_count": 10,
      "outputs": [
        {
          "output_type": "execute_result",
          "data": {
            "text/plain": [
              "3040120"
            ]
          },
          "metadata": {
            "tags": []
          },
          "execution_count": 10
        }
      ]
    },
    {
      "cell_type": "code",
      "metadata": {
        "colab": {
          "base_uri": "https://localhost:8080/"
        },
        "id": "G4da6FoaBzwz",
        "outputId": "d3f9e19a-5f95-4538-b933-9edf8aa3b0c1"
      },
      "source": [
        "# the number of 5-star reviews\n",
        "helpful_five_star_reviews = helpful_table.filter(helpful_table[\"star_rating\"]== 5)\n",
        "helpful_five_star_reviews.count()"
      ],
      "execution_count": 14,
      "outputs": [
        {
          "output_type": "execute_result",
          "data": {
            "text/plain": [
              "32804"
            ]
          },
          "metadata": {
            "tags": []
          },
          "execution_count": 14
        }
      ]
    },
    {
      "cell_type": "code",
      "metadata": {
        "id": "gnSEYHTC1nkb",
        "colab": {
          "base_uri": "https://localhost:8080/"
        },
        "outputId": "4acdfcbd-28c1-4e54-8d1e-b5510d5d6ec7"
      },
      "source": [
        "# the percentage 5-star reviews are calculated for all Vine reviews\n",
        "five_star_reviews.filter(five_star_reviews[\"verified_purchase\"] == \"Y\").count()/vine_df.filter(vine_df[\"verified_purchase\"]== \"Y\").count()"
      ],
      "execution_count": 11,
      "outputs": [
        {
          "output_type": "execute_result",
          "data": {
            "text/plain": [
              "0.6329679956329451"
            ]
          },
          "metadata": {
            "tags": []
          },
          "execution_count": 11
        }
      ]
    },
    {
      "cell_type": "code",
      "metadata": {
        "colab": {
          "base_uri": "https://localhost:8080/"
        },
        "id": "rZrzJaPhG3OV",
        "outputId": "9ebca2ee-36b1-4b47-c52e-7e7e7af9802b"
      },
      "source": [
        "# the percentage helpful 5-star reviews are calculated for all Vine reviews\n",
        "helpful_five_star_reviews.filter(helpful_five_star_reviews[\"verified_purchase\"] == \"Y\").count()/vine_df.filter(vine_df[\"verified_purchase\"]== \"Y\").count()"
      ],
      "execution_count": 15,
      "outputs": [
        {
          "output_type": "execute_result",
          "data": {
            "text/plain": [
              "0.0053175617525936395"
            ]
          },
          "metadata": {
            "tags": []
          },
          "execution_count": 15
        }
      ]
    },
    {
      "cell_type": "code",
      "metadata": {
        "id": "7Gx1Afdr1vV9",
        "colab": {
          "base_uri": "https://localhost:8080/"
        },
        "outputId": "5ce1e5d0-db6c-45bc-8217-4455f1e66794"
      },
      "source": [
        "# the percentage 5-star reviews are calculated for all non-Vine reviews\n",
        "five_star_reviews.filter(five_star_reviews[\"verified_purchase\"] == \"N\").count()/vine_df.filter(vine_df[\"verified_purchase\"]== \"N\").count()"
      ],
      "execution_count": 12,
      "outputs": [
        {
          "output_type": "execute_result",
          "data": {
            "text/plain": [
              "0.5809048951172375"
            ]
          },
          "metadata": {
            "tags": []
          },
          "execution_count": 12
        }
      ]
    },
    {
      "cell_type": "code",
      "metadata": {
        "colab": {
          "base_uri": "https://localhost:8080/"
        },
        "id": "wMqZ_7kfG9F5",
        "outputId": "6fdae304-ab6d-489f-e5fa-06e1fe7dc367"
      },
      "source": [
        "# the percentage helpful 5-star reviews are calculated for all non-Vine reviews\n",
        "helpful_five_star_reviews.filter(helpful_five_star_reviews[\"verified_purchase\"] == \"N\").count()/vine_df.filter(vine_df[\"verified_purchase\"]== \"N\").count()"
      ],
      "execution_count": 16,
      "outputs": [
        {
          "output_type": "execute_result",
          "data": {
            "text/plain": [
              "0.01770078628978882"
            ]
          },
          "metadata": {
            "tags": []
          },
          "execution_count": 16
        }
      ]
    }
  ]
}